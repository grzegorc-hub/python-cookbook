{
 "cells": [
  {
   "cell_type": "markdown",
   "metadata": {},
   "source": [
    "1.1-2 unpacking"
   ]
  },
  {
   "cell_type": "code",
   "execution_count": 1,
   "metadata": {},
   "outputs": [
    {
     "name": "stdout",
     "output_type": "stream",
     "text": [
      "1 2 [3, 4]\n",
      "H l o\n",
      "[1, 2, 3] 4\n",
      "l o\n"
     ]
    }
   ],
   "source": [
    "a, b, c = (1, 2, [3, 4])\n",
    "print(a, b, c)\n",
    "\n",
    "a, _, _, b, c = 'Hello'\n",
    "print(a, b, c)\n",
    "\n",
    "*a, b = [1, 2, 3, 4]\n",
    "print(a, b)\n",
    "\n",
    "*_, b, c = 'Hello'\n",
    "print(b, c)"
   ]
  },
  {
   "cell_type": "markdown",
   "metadata": {},
   "source": [
    "1.3 keep last N elements"
   ]
  },
  {
   "cell_type": "code",
   "execution_count": 2,
   "metadata": {},
   "outputs": [
    {
     "name": "stdout",
     "output_type": "stream",
     "text": [
      "deque(['aaa\\n', 'bbb\\n'], maxlen=3)\n",
      "python\n",
      "\n",
      "---------------\n",
      "deque(['eee\\n', 'fff\\n', 'gg\\n'], maxlen=3)\n",
      "python\n",
      "\n",
      "---------------\n",
      "deque(['jijoi\\n', 'ijioe\\n', 'ijif\\n'], maxlen=3)\n",
      "python111\n",
      "---------------\n"
     ]
    }
   ],
   "source": [
    "from collections import deque\n",
    "\n",
    "\n",
    "def search(lines, pattern, history=5):\n",
    "    prev_lines = deque(maxlen=history)\n",
    "    for line in lines:\n",
    "        if pattern in line:\n",
    "            yield line, prev_lines\n",
    "        prev_lines.append(line)\n",
    "\n",
    "\n",
    "if __name__ == '__main__':\n",
    "    with open('file1.txt') as f:\n",
    "        for line, prev_lines in search(f, 'python', 3):\n",
    "            print(prev_lines)\n",
    "            print(line)\n",
    "            print('-'*15)\n"
   ]
  }
 ],
 "metadata": {
  "kernelspec": {
   "display_name": "Python 3",
   "language": "python",
   "name": "python3"
  },
  "language_info": {
   "codemirror_mode": {
    "name": "ipython",
    "version": 3
   },
   "file_extension": ".py",
   "mimetype": "text/x-python",
   "name": "python",
   "nbconvert_exporter": "python",
   "pygments_lexer": "ipython3",
   "version": "3.12.6"
  }
 },
 "nbformat": 4,
 "nbformat_minor": 2
}
